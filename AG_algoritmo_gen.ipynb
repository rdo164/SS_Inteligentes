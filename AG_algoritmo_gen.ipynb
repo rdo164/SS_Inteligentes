{
 "cells": [
  {
   "cell_type": "markdown",
   "metadata": {
    "id": "brXxbYKp1WCP"
   },
   "source": [
    "# 🛑 Desarrollo a realizar"
   ]
  },
  {
   "cell_type": "markdown",
   "metadata": {
    "id": "YaWZpt581WCW"
   },
   "source": [
    "**Requisitos**\n",
    "\n",
    "* Tarea de optimización:\n",
    "  1.  Utilizar la clase Individual explicada en clase con los métodos y atributos vistos en los ejercicios prácticos.\n",
    "  2. Justificar [explícitamente](https://dle.rae.es/expl%C3%ADcitamente) las decisiones tomadas respecto a los parámetros del algoritmo:\n",
    "     * Tamaño de la población.\n",
    "     * Estrategia de selección de padres (elitismo, ruleta, torneos,  etc.)\n",
    "     * Método de reproducción (recombinación en un punto, en dos, uniforme,etc.).\n",
    "     * Método de mutación (bit-string, flip-bit, etc.) y ratio\n",
    "     * Estrategia de supervivencia entre poblaciones (estable, generacional, elitismo, etc.)\n",
    "     * Condiciones de parada.\n",
    "  3. Por cada iteración imprime el número de generación y los atributos del individuo con mejor aptitud.\n",
    "  4. La representación ha de tener suficientes soluciones diversas y complejas, de modo que el espacio de búsqueda sea lo suficientemente grande como para permitir que el algoritmo genético explore múltiples combinaciones.\n",
    "  5. La función de aptitud se ha de basar en al menos 3 variables complejas.\n",
    "  6. **<font color=\"red\">No es posible utilizar librerías.</font>**\n",
    "\n",
    "\n",
    "**Consideraciones deseables**\n",
    "* Crea una alternativa para:\n",
    "  * Tipo de mutación\n",
    "  * Método de reproducción\n",
    "  * El sistema ha de tener un grado de sofisticación elevado.\n",
    "\n",
    "\n",
    "**🤖Requisitos extra**\n",
    "\n",
    "* Genéticos: Programa el código de tal manera que se puedan seleccionar distintos parámetros en cuanto:\n",
    "  * Tasa de supervivencia.\n",
    "  * Tasa de mutación.\n",
    "  * Selección de padres.\n",
    "  * Selección de tipo de mutación.\n",
    "  * Selección de método de reproducción.\n",
    "  * Tamaño de la población.\n"
   ]
  },
  {
   "cell_type": "markdown",
   "metadata": {
    "id": "Eu7ZjY2uuJUR"
   },
   "source": [
    "# 2 Optimización"
   ]
  },
  {
   "cell_type": "markdown",
   "metadata": {
    "id": "5UWRNPEVuJUV"
   },
   "source": [
    "## a) Problema a resolver\n",
    "Somos un taller mecánico que reparamos diferentes piezas de coches. Cada pieza de coche tiene un tiempo de reparación estimado, y cada pieza tiene asignado un grupo de reparación. Luego, desde la pieza de reparación a la siguiente pieza de reparación hay un tiempo de viaje, menos en la útima pieza que es cuando finaliza el turno."
   ]
  },
  {
   "cell_type": "code",
   "execution_count": 1,
   "metadata": {
    "id": "66JwyfIo9O6C"
   },
   "outputs": [],
   "source": [
    "# Tiempos de reparación por pieza (en minutos)\n",
    "tiempos_reparacion = [30, 40, 50, 25, 20, 45, 15]  # Focos, Frenos, Motor, Llantas, Batería, Suspensión, Aceite\n",
    "\n",
    "\n",
    "grupo = [\n",
    "    [1.0, 1.3, 1.2, 1.1, 0.9, 1.3, 1.5],  # Grupo A: Focos, Frenos, Motor, Llantas, Batería, Suspensión, Aceite\n",
    "    [1.1, 1.0, 0.9, 1.3, 1.2, 1.1, 1.0],  # Grupo B: Focos, Frenos, Motor, Llantas, Batería, Suspensión, Aceite\n",
    "    [1.2, 1.1, 1.0, 1.0, 1.1, 1.0, 1.2],  # Grupo C: Focos, Frenos, Motor, Llantas, Batería, Suspensión, Aceite\n",
    "    [1.3, 1.0, 1.2, 1.1, 1.0, 1.3, 1.1]   # Grupo D: Focos, Frenos, Motor, Llantas, Batería, Suspensión, Aceite\n",
    "]\n",
    "\n",
    "\n",
    "matriz_tiempos = [\n",
    "    [0, 10, 15, 20, 12, 18, 8],   # Focos a n\n",
    "    [10, 0, 25, 30, 14, 20, 10],  # Frenos a n\n",
    "    [15, 25, 0, 35, 18, 22, 12],  # Motor a n\n",
    "    [20, 30, 35, 0, 16, 25, 15],  # Llantas a n\n",
    "    [12, 14, 18, 16, 0, 19, 10],  # Batería a n\n",
    "    [18, 20, 22, 25, 19, 0, 12],  # Suspensión a n\n",
    "    [8, 10, 12, 15, 10, 12, 0]    # Aceite a n\n",
    "]"
   ]
  },
  {
   "cell_type": "markdown",
   "metadata": {
    "id": "JrP9bhQquJUZ"
   },
   "source": [
    "## b) Representación de estados + Función de aptitud\n",
    "A la hora de medir la aptitud de los individuos hemos insertado la función de fitness dentro de la clase.\n",
    "\n",
    "Con la función **set_aptitud() evaluamos la aptitud de cada individuo de la población**. De esta manera, cada vez que queramos evaluar la aptitud de un individuo creado, simplemente tendremos que poner:\n",
    "\n",
    "```\n",
    "individuo.set_aptitud()\n",
    "```"
   ]
  },
  {
   "cell_type": "code",
   "execution_count": 2,
   "metadata": {
    "id": "zcmbsi1M90T2"
   },
   "outputs": [],
   "source": [
    "class Individuo:\n",
    "    def __init__(self, cromosoma=None, aptitud=0):\n",
    "        self._cromosoma = cromosoma\n",
    "        self._aptitud = aptitud\n",
    "\n",
    "    # Getter y Setter para cromosoma\n",
    "    def get_cromosoma(self):\n",
    "        return self._cromosoma\n",
    "\n",
    "    def set_cromosoma(self, cromosoma):\n",
    "        self._cromosoma = cromosoma\n",
    "\n",
    "    # Getter y Setter para aptitud\n",
    "    def get_aptitud(self):\n",
    "        return self._aptitud\n",
    "\n",
    "    def set_aptitud(self):\n",
    "        indices_piezas = self._cromosoma[:7]  # Los primeros 7 elementos son los índices de las piezas\n",
    "        factores_grupo = self._cromosoma[7]  # Sublista con los factores del grupo\n",
    "\n",
    "        aptitud = 0\n",
    "\n",
    "        for i in range(len(indices_piezas)):\n",
    "            aptitud += tiempos_reparacion[indices_piezas[i]] * grupo[factores_grupo[i]][indices_piezas[i]]\n",
    "\n",
    "            # Sumar tiempos entre piezas\n",
    "            if i < len(indices_piezas) - 1:\n",
    "                aptitud += matriz_tiempos[indices_piezas[i]][indices_piezas[i + 1]]\n",
    "\n",
    "\n",
    "        self._aptitud = aptitud"
   ]
  },
  {
   "cell_type": "markdown",
   "metadata": {
    "id": "-zHqgXQ4uMak"
   },
   "source": [
    "## c) Función de generar cromosoma y población\n",
    "\n",
    "- Generar Cromosoma: Con esta función generamos un cromosoma de 7 valores, este último contiene otro Array dentro que representa los grupos que realizan las acciones del primero. Es decir, para la posicion 0 del Array la realiza la posición 0 del Array que contiene la posición 7.\n",
    "\n",
    "- Generar la población: Con esta función generamos la población, con el tamaño que se indique."
   ]
  },
  {
   "cell_type": "code",
   "execution_count": 3,
   "metadata": {
    "id": "yFm9fe31-DyL"
   },
   "outputs": [],
   "source": [
    "import random\n",
    "\n",
    "def generar_cromosoma():\n",
    "    # generamos 7 valores únicos entre 0 y 6\n",
    "    primeras_siete = random.sample(range(7), 7)\n",
    "\n",
    "    # generamos una Sublista en la posición 7, con valores entre 0 y 3\n",
    "    sublista = [random.randint(0, 3) for _ in range(7)]\n",
    "\n",
    "    return primeras_siete + [sublista]\n",
    "\n",
    "def generar_poblacion(tamano):\n",
    "    # Iniciamos la población\n",
    "    poblacion = []\n",
    "    for _ in range(tamano):\n",
    "        cromosoma = generar_cromosoma()\n",
    "        individuo = Individuo(cromosoma)\n",
    "        individuo.set_aptitud()\n",
    "        poblacion.append(individuo)\n",
    "    return poblacion"
   ]
  },
  {
   "cell_type": "markdown",
   "metadata": {
    "id": "KZzwKgjZuMax"
   },
   "source": [
    "#### Prueba unitaria Generar población"
   ]
  },
  {
   "cell_type": "code",
   "execution_count": 4,
   "metadata": {
    "colab": {
     "base_uri": "https://localhost:8080/"
    },
    "id": "eEzJT6i1-PUT",
    "outputId": "0f111327-04ef-4376-c466-d80dbca1ecfa"
   },
   "outputs": [
    {
     "name": "stdout",
     "output_type": "stream",
     "text": [
      "Individuo 1: [5, 4, 1, 6, 0, 3, 2, [2, 3, 3, 2, 0, 2, 3]] Aptitud: 344.0\n",
      "Individuo 2: [4, 6, 3, 1, 2, 0, 5, [0, 0, 2, 1, 1, 2, 0]] Aptitud: 358.0\n",
      "Individuo 3: [6, 2, 1, 4, 0, 3, 5, [0, 1, 1, 2, 2, 3, 2]] Aptitud: 346.0\n",
      "Individuo 4: [1, 6, 4, 5, 3, 2, 0, [1, 1, 3, 0, 2, 3, 1]] Aptitud: 365.5\n",
      "Individuo 5: [2, 4, 6, 1, 3, 0, 5, [2, 3, 0, 2, 0, 1, 0]] Aptitud: 361.5\n"
     ]
    }
   ],
   "source": [
    "# Crear población de 500 individuos\n",
    "poblacion = generar_poblacion(500)\n",
    "\n",
    "# Ejemplo de impresión de cromosomas\n",
    "for i, individuo in enumerate(poblacion[:5]):  # Mostrar los primeros 5\n",
    "    print(f\"Individuo {i+1}: {individuo.get_cromosoma()} Aptitud: {individuo.get_aptitud()}\")"
   ]
  },
  {
   "cell_type": "markdown",
   "metadata": {
    "id": "4abVvtOv-Yiu"
   },
   "source": [
    "## e) Selección de padres\n",
    "Para la selección de padres hemos empleado el elitismo."
   ]
  },
  {
   "cell_type": "code",
   "execution_count": 5,
   "metadata": {
    "id": "Ren5QO6k-kNW"
   },
   "outputs": [],
   "source": [
    "def seleccionar_padres(poblacion, tasa_supervivencia):\n",
    "    # Ordenamos la población según la aptitud de manera descendente\n",
    "    poblacion_ordenada = sorted(poblacion, key=lambda x: x.get_aptitud(), reverse=False)\n",
    "\n",
    "    # Calculamos la cantidad de individuos a seleccionar según la variable tasa_supervivencia\n",
    "    num_padres = int(tasa_supervivencia * len(poblacion))\n",
    "\n",
    "    # Seleccionar el top de la tasa de supervivencia de individuos como padres\n",
    "    padres = poblacion_ordenada[:num_padres]\n",
    "\n",
    "    return padres"
   ]
  },
  {
   "cell_type": "markdown",
   "metadata": {
    "id": "lKFi9i78-qTc"
   },
   "source": [
    "## f) Recombinación\n",
    "Hemos empleado la **recombinación en un punto**, lo que hacemos es intercambiar los grupos entre los padres.\n",
    "Ejemplo:\n",
    "\n",
    "| **Padre**       | **Cromosoma Original** | **Descendiente** | **Cromosoma Resultante** |\n",
    "|------------------|------------------------|-------------------|---------------------------|\n",
    "| **Padre 1**      | `[4, 2, 3, 0, 1, 6, 5, [3, 2, 1, 0, 2, 0, 2]]` | **Descendiente 1** | `[4, 2, 3, 0, 1, 6, 5, [2, 3, 0, 2, 3, 2, 1]]` |\n",
    "| **Padre 2**      | `[3, 4, 5, 6, 1, 0, 2, [2, 3, 0, 2, 3, 2, 1]]` | **Descendiente 2** | `[3, 4, 5, 6, 1, 0, 2,[3, 2, 1, 0, 2, 0, 2]]` |\n",
    "\n",
    "También, para obtener mayor variabilidad en los datos obtenemos al primer padre, el mejor padre, y al último de la lista, el peor de los mejores. Así  el orden de las piezas no cambia y en caso de que la secuencia de trabajo sea buena igual el grupo de trabajo es mejorable, y al revés."
   ]
  },
  {
   "cell_type": "code",
   "execution_count": 6,
   "metadata": {
    "id": "XLwKncch-zeq"
   },
   "outputs": [],
   "source": [
    "def recombinacion_en_un_punto(padres):\n",
    "\n",
    "  descendientes = []\n",
    "  y = len(padres)\n",
    "\n",
    "  if (y % 2) != 0:  # Compruebo si son pares\n",
    "    padres.pop()  # Eliminamos el último elemento para poder hacer la recombinación\n",
    "\n",
    "  while padres:\n",
    "    # Elimino el primer padre\n",
    "    padre1 = padres.pop(0)\n",
    "    # Elimino el último padre\n",
    "    padre2 = padres.pop()\n",
    "    #print(f\"El padre es:{padre1._cromosoma}\")\n",
    "    #print(f\"El padre2 es:{padre2._cromosoma}\")\n",
    "\n",
    "    P1 = padre1._cromosoma[0:7]\n",
    "    G1 = padre1._cromosoma[7]\n",
    "    P2 = padre2._cromosoma[0:7]\n",
    "    G2 = padre2._cromosoma[7]\n",
    "\n",
    "    descendiente1 = P1 + [G2]\n",
    "    descendiente2 = P2 + [G1]\n",
    "\n",
    "    individuo1 = Individuo(descendiente1)\n",
    "    individuo2 = Individuo(descendiente2)\n",
    "\n",
    "    individuo1.set_aptitud()\n",
    "    individuo2.set_aptitud()\n",
    "\n",
    "    #print(descendiente1, individuo1.get_aptitud())\n",
    "    #print(descendiente2, individuo2.get_aptitud())\n",
    "\n",
    "    descendientes.append(individuo1)\n",
    "    descendientes.append(individuo2)\n",
    "\n",
    "\n",
    "  return descendientes"
   ]
  },
  {
   "cell_type": "markdown",
   "metadata": {},
   "source": [
    "### g) Mutación bit string\n",
    "Hemos empleado esta mutación, para tener mayor variabilidad en los datos y porque al no ser una codificación binaria el hecho de cambiar toda la cadena a priori, no nos lleva a una mejor solución.\n",
    "\n",
    "Para ello vamos a mutar los valores de los grupos para mayor variabilidad en los datos, y para que no obtengamos muchos valores de un mismo grupo y haya variedad.\n",
    "\n",
    "Para el empleo de la mutación, tenemos dos funciones:\n",
    "- **mutacion_bit_string**: Con esta función lo que hacemos es devolver el descendiente mutado según la tasa de mutación que proporciona la función inferior. \n",
    "- **mutacion_hijos**:  Con esta función se recogen los descendientes recombinados y devolvemos los descendientes mutados. Para ello, recorremos los descendientes y llamamos a la función anterior para que mute el individuo correspondiente según la tasa de mutación introducida en la función principal. "
   ]
  },
  {
   "cell_type": "code",
   "execution_count": 7,
   "metadata": {},
   "outputs": [],
   "source": [
    "def mutacion_bit_string(individuo, tasa_de_mutacion):\n",
    "\n",
    "    P1 = individuo._cromosoma[0:7]\n",
    "    grupo = individuo._cromosoma[7]\n",
    "    #print(f\"El grupo es: {grupo}\")\n",
    "    for i in grupo:\n",
    "        # genero un número random de 0 a 1 y si es menor que la tasa de mutación que mute el gen \n",
    "        if random.random() < tasa_de_mutacion:\n",
    "\n",
    "            # Cambia el gen por otro valor dentro del rango permitido\n",
    "            valor_mutado = random.randint(0, 3)\n",
    "            # Actualizamos la posición i del grupo\n",
    "            grupo[i] = valor_mutado\n",
    "\n",
    "    #print(\"Nuevo Grupo\", grupo)\n",
    "    genotipo_mutado = P1 + [grupo]\n",
    "    #print(genotipo_mutado)\n",
    "    # Actualizo en nuevo cromosoma\n",
    "    individuo.set_cromosoma(genotipo_mutado)\n",
    "    individuo.set_aptitud()\n",
    "            \n",
    "    return individuo  # retorno el individuo mutado"
   ]
  },
  {
   "cell_type": "code",
   "execution_count": 8,
   "metadata": {},
   "outputs": [],
   "source": [
    "def mutacion_hijos(descendientes, tasa_mutacion):\n",
    "    \n",
    "    descendientes_mutados = []\n",
    "    # recorremos los descendientes\n",
    "    for individuo in descendientes:\n",
    "        #print(individuo.get_cromosoma())\n",
    "\n",
    "        individuo_mutado = mutacion_bit_string(individuo, tasa_mutacion)\n",
    "        #print(individuo_mutado.get_cromosoma())\n",
    "\n",
    "        descendientes_mutados.append(individuo_mutado)\n",
    "        #print(f\"El individuo nuevo es {individuo.get_cromosoma()[7]} {individuo.get_aptitud()}\")\n",
    "\t\n",
    "    descendientes_mutados = sorted(descendientes_mutados, key=lambda x: x.get_aptitud(), reverse=False)\n",
    "    \n",
    "    return descendientes_mutados"
   ]
  },
  {
   "cell_type": "markdown",
   "metadata": {
    "id": "aJ0Tu9c-_p_e"
   },
   "source": [
    "#### Prueba unitaria de cómo usar el bit-string"
   ]
  },
  {
   "cell_type": "code",
   "execution_count": 9,
   "metadata": {
    "colab": {
     "base_uri": "https://localhost:8080/"
    },
    "id": "WBGcotAh_rpG",
    "outputId": "596dd1cf-75b7-466a-d5ae-cbae6b0f0b3f"
   },
   "outputs": [
    {
     "name": "stdout",
     "output_type": "stream",
     "text": [
      "El individuo sin mutar es [4, 2, 3, 0, 1, 6, 5, [3, 2, 1, 0, 2, 0, 2]]\n",
      "El individuo mutado es: [4, 2, 3, 0, 1, 6, 5, [3, 3, 0, 1, 2, 0, 2]]\n"
     ]
    }
   ],
   "source": [
    "genotipo1 = [4, 2, 3, 0, 1, 6, 5, [3, 2, 1, 0, 2, 0, 2]]\n",
    "individuo1 = Individuo(genotipo1)\n",
    "tasa_mutacion = 0.40\n",
    "print(f\"El individuo sin mutar es {individuo1._cromosoma}\")\n",
    "\n",
    "individuo_nuevo = mutacion_bit_string(individuo1, tasa_mutacion)\n",
    "\n",
    "print(f\"El individuo mutado es: {individuo_nuevo.get_cromosoma()}\")\n"
   ]
  },
  {
   "cell_type": "markdown",
   "metadata": {
    "id": "uPc2qNmn_vha"
   },
   "source": [
    "## Justificación de decisiones:\n",
    "\n",
    "- Tamaño de la población: Hemos empleado una población de 10000 individuos  porque de 500 a 5000, los valores de los mejores individuos no se aproximaban.\n",
    "\n",
    "- Estrategía de selección de padres: **Elitismo**. Pensamos en emplear la selección de la ruleta pero como los números puestos de trabajo no se pueden repetir, para nuestra problemática lo que mejor se adaptaba era seleccionar los mejores.\n",
    "    Hemos empleado diferentes tasas de supervivencia para las diferentes **reproducciones** y la que más rendimiento nos ha dado ha para la reproducción **generacional ha sido 0.2** y para la **elitista a 0.25**.  \n",
    "\n",
    "- Método de reproducción: **Recombinación en un punto**. Mayor justificación arriba.\n",
    "\n",
    "- Método de mutación: **Mutación bit string**, con una tasa de mutación de 0,4 porque como solo recombinamos los grupos, de esta manera conseguimos mayor variabilidad en los datos. Mayor justificación de mutación arriba.\n",
    "\n",
    "- Estrategia de supervivencia entre poblaciones: Para la supervivencia entre poblaciones hemos empleado dos para ver cual es la que más nos favorecía.\n",
    "\n",
    "    - Generacional: con esta estrategia se reemplaza la totalidad de la población.\n",
    "\n",
    "    - Elitismo: con esta estrategia mantenemos el 25% de los individuos + los descendientes mutados.\n",
    "\n",
    "- Condiciones de parada: Para el Generacional hemos empleado 10 generaciones porque son suficientes. Pero para el Elitismo hemos tenido que reducir las generaciones porque la población se va reduciendo más o menos un 75% por cada iteración del bucle.\n"
   ]
  },
  {
   "cell_type": "markdown",
   "metadata": {
    "id": "11PfIl82uJUf"
   },
   "source": [
    "## h1) Función - GENERACIONAL"
   ]
  },
  {
   "cell_type": "code",
   "execution_count": 16,
   "metadata": {
    "id": "W2NtDDuAuJUh"
   },
   "outputs": [],
   "source": [
    "def main_generacional(tamaño_poblacion, tasa_supervivencia, tasa_mutacion, generaciones):\n",
    "\n",
    "\t# Inicializo la población inicial\n",
    "\tpoblacion = generar_poblacion(tamaño_poblacion)\n",
    "\n",
    "\tfor generacion in range(generaciones):\n",
    "\t\t# Seleccion de padres\n",
    "\t\tpadres_seleccionados = seleccionar_padres(poblacion, tasa_supervivencia)\n",
    "\t\telegido_sin_evolucionar = padres_seleccionados[0]\n",
    "\t\tprint(f\"Generación {generacion + 1} | El individuo mejor sin mutar {elegido_sin_evolucionar.get_cromosoma()} tiene una aptitud de {elegido_sin_evolucionar.get_aptitud()} \")\n",
    "\n",
    "\t\t#  Recombinación\n",
    "\t\tdescendientes = recombinacion_en_un_punto(padres_seleccionados)\n",
    "\t\t# Mutación\n",
    "\t\tdescendientes = mutacion_hijos(descendientes, tasa_mutacion)\n",
    "\n",
    "\t\telegido = descendientes[0]\n",
    "\t\tprint(f\"Generación {generacion + 1} | El individuo {elegido.get_cromosoma()} tiene una aptitud de {elegido.get_aptitud()} \")\n",
    "\n",
    "\t\t# Vuelvo a generar la población\n",
    "\t\tpoblacion = generar_poblacion(tamaño_poblacion)\n"
   ]
  },
  {
   "cell_type": "markdown",
   "metadata": {
    "id": "8JDz3h-yCGZ1"
   },
   "source": [
    "## h1) Caso de uso - Generacional"
   ]
  },
  {
   "cell_type": "code",
   "execution_count": 17,
   "metadata": {
    "colab": {
     "base_uri": "https://localhost:8080/"
    },
    "id": "RYCUXS9WB234",
    "outputId": "f6776e6e-8e9a-40ce-a9be-73f4f47f8bdf"
   },
   "outputs": [
    {
     "name": "stdout",
     "output_type": "stream",
     "text": [
      "Generación 1 | El individuo mejor sin mutar [3, 4, 0, 1, 6, 2, 5, [3, 3, 0, 3, 3, 1, 2]] tiene una aptitud de 306.0 \n",
      "Generación 1 | El individuo [3, 4, 0, 2, 6, 1, 5, [2, 3, 0, 1, 3, 3, 2]] tiene una aptitud de 306.5 \n",
      "Generación 2 | El individuo mejor sin mutar [5, 6, 1, 0, 2, 4, 3, [1, 2, 3, 0, 1, 0, 3]] tiene una aptitud de 309.0 \n",
      "Generación 2 | El individuo [2, 0, 1, 6, 3, 4, 5, [1, 0, 3, 1, 3, 2, 2]] tiene una aptitud de 309.5 \n",
      "Generación 3 | El individuo mejor sin mutar [3, 4, 2, 5, 6, 0, 1, [2, 0, 1, 2, 3, 1, 1]] tiene una aptitud de 308.5 \n",
      "Generación 3 | El individuo [3, 4, 1, 6, 0, 2, 5, [2, 2, 1, 1, 0, 1, 2]] tiene una aptitud de 307.0 \n",
      "Generación 4 | El individuo mejor sin mutar [5, 1, 6, 0, 2, 4, 3, [2, 3, 2, 0, 1, 0, 2]] tiene una aptitud de 308.0 \n",
      "Generación 4 | El individuo [3, 4, 1, 0, 2, 6, 5, [2, 0, 1, 2, 2, 1, 2]] tiene una aptitud de 308.0 \n",
      "Generación 5 | El individuo mejor sin mutar [2, 6, 5, 0, 1, 4, 3, [1, 1, 2, 1, 3, 3, 2]] tiene una aptitud de 305.0 \n",
      "Generación 5 | El individuo [3, 4, 0, 1, 6, 5, 2, [3, 0, 1, 3, 3, 2, 1]] tiene una aptitud de 307.0 \n",
      "Generación 6 | El individuo mejor sin mutar [2, 6, 1, 0, 4, 3, 5, [1, 2, 3, 0, 0, 2, 2]] tiene una aptitud de 306.0 \n",
      "Generación 6 | El individuo [4, 3, 6, 2, 0, 1, 5, [3, 2, 3, 1, 0, 1, 2]] tiene una aptitud de 309.5 \n",
      "Generación 7 | El individuo mejor sin mutar [3, 4, 2, 0, 6, 5, 1, [2, 0, 2, 0, 1, 2, 1]] tiene una aptitud de 312.0 \n",
      "Generación 7 | El individuo [5, 6, 2, 0, 1, 4, 3, [2, 2, 1, 0, 2, 3, 2]] tiene una aptitud de 306.0 \n",
      "Generación 8 | El individuo mejor sin mutar [2, 6, 5, 4, 3, 0, 1, [1, 3, 2, 3, 2, 0, 3]] tiene una aptitud de 310.5 \n",
      "Generación 8 | El individuo [5, 1, 0, 2, 6, 4, 3, [2, 1, 0, 2, 1, 0, 2]] tiene una aptitud de 306.0 \n",
      "Generación 9 | El individuo mejor sin mutar [3, 6, 5, 4, 1, 0, 2, [3, 1, 2, 0, 2, 0, 1]] tiene una aptitud de 309.5 \n",
      "Generación 9 | El individuo [2, 0, 1, 6, 3, 4, 5, [1, 0, 1, 1, 2, 0, 2]] tiene una aptitud de 303.0 \n",
      "Generación 10 | El individuo mejor sin mutar [2, 4, 3, 5, 6, 0, 1, [1, 3, 0, 2, 1, 0, 1]] tiene una aptitud de 311.5 \n",
      "Generación 10 | El individuo [5, 2, 0, 6, 1, 4, 3, [2, 1, 0, 3, 3, 0, 3]] tiene una aptitud de 307.0 \n"
     ]
    }
   ],
   "source": [
    "tamaño_poblacion = 10000\n",
    "tasa_supervivencia = 0.2\n",
    "tasa_mutacion = 0.4\n",
    "generaciones = 10\n",
    "main_generacional(tamaño_poblacion,tasa_supervivencia, tasa_mutacion, generaciones)"
   ]
  },
  {
   "cell_type": "markdown",
   "metadata": {
    "id": "YTOquzLEB6dJ"
   },
   "source": [
    "## h2) Función - ELITISMO"
   ]
  },
  {
   "cell_type": "code",
   "execution_count": 14,
   "metadata": {
    "id": "obTv6P_fB4fe"
   },
   "outputs": [],
   "source": [
    "def main_elitismo(tamaño_poblacion, tasa_supervivencia, tasa_mutacion, generaciones):\n",
    "    # Generar la población inicial\n",
    "    poblacion = generar_poblacion(tamaño_poblacion)\n",
    "\n",
    "    for generacion in range(generaciones):\n",
    "\n",
    "        # Seleccion padres\n",
    "        padres_seleccionados = seleccionar_padres(poblacion, tasa_supervivencia)\n",
    "        \n",
    "        elegido_sin_evolucionar = padres_seleccionados[0]\n",
    "        print(f\"Generación {generacion + 1} | El individuo mejor sin mutar {elegido_sin_evolucionar.get_cromosoma()} tiene una aptitud de {elegido_sin_evolucionar.get_aptitud()} \")\n",
    "\n",
    "        # Guardo los mejores padres de la población\n",
    "        elites = padres_seleccionados\n",
    "\n",
    "        # Recombinación\n",
    "        descendientes = recombinacion_en_un_punto(padres_seleccionados)\n",
    "        # Mutación\n",
    "        descendientes = mutacion_hijos(descendientes, tasa_mutacion)\n",
    "        #print(len(descendientes))\n",
    "        # Mostrar el mejor individuo de la generación actual\n",
    "        elegido = descendientes[0]\n",
    "        print(f\"Generación {generacion + 1} | El individuo {elegido.get_cromosoma()} tiene una aptitud de {elegido.get_aptitud()} \")\n",
    "\n",
    "        # genero la nueva población\n",
    "        poblacion = elites + descendientes\n",
    "        #print(\"Tamaño de población: \",len(poblacion))"
   ]
  },
  {
   "cell_type": "markdown",
   "metadata": {
    "id": "qctqBFGsCeBi"
   },
   "source": [
    "## h2) Caso de uso - Elitista"
   ]
  },
  {
   "cell_type": "code",
   "execution_count": 15,
   "metadata": {
    "colab": {
     "base_uri": "https://localhost:8080/"
    },
    "id": "1RUHPy4cCgWZ",
    "outputId": "4656a3db-8035-4b5b-e43c-5a74b98f499f"
   },
   "outputs": [
    {
     "name": "stdout",
     "output_type": "stream",
     "text": [
      "Generación 1 | El individuo mejor sin mutar [3, 6, 4, 0, 1, 5, 2, [2, 1, 0, 1, 3, 2, 1]] tiene una aptitud de 310.0 \n",
      "Generación 1 | El individuo [3, 4, 1, 0, 2, 6, 5, [2, 0, 3, 0, 1, 3, 2]] tiene una aptitud de 298.5 \n",
      "Generación 2 | El individuo mejor sin mutar [3, 4, 1, 0, 2, 6, 5, [2, 0, 3, 0, 1, 3, 2]] tiene una aptitud de 298.5 \n",
      "Generación 2 | El individuo [3, 4, 1, 0, 6, 2, 5, [3, 0, 3, 0, 1, 1, 2]] tiene una aptitud de 302.5 \n",
      "Generación 3 | El individuo mejor sin mutar [3, 4, 1, 0, 6, 2, 5, [3, 0, 3, 0, 1, 1, 2]] tiene una aptitud de 302.5 \n",
      "Generación 3 | El individuo [3, 4, 1, 0, 2, 6, 5, [1, 0, 3, 1, 1, 1, 2]] tiene una aptitud de 307.5 \n",
      "Generación 4 | El individuo mejor sin mutar [3, 4, 1, 0, 2, 6, 5, [1, 0, 3, 1, 1, 1, 2]] tiene una aptitud de 307.5 \n",
      "Generación 4 | El individuo [3, 4, 1, 0, 2, 6, 5, [2, 0, 1, 1, 1, 1, 2]] tiene una aptitud de 300.0 \n",
      "Generación 5 | El individuo mejor sin mutar [3, 4, 1, 0, 2, 6, 5, [2, 0, 1, 1, 1, 1, 2]] tiene una aptitud de 300.0 \n",
      "Generación 5 | El individuo [3, 4, 1, 0, 2, 6, 5, [3, 1, 1, 1, 2, 1, 2]] tiene una aptitud de 313.5 \n"
     ]
    }
   ],
   "source": [
    "tamaño_poblacion = 10000\n",
    "tasa_supervivencia = 0.25\n",
    "tasa_mutacion = 0.4\n",
    "generaciones = 5\n",
    "\n",
    "main_elitismo(tamaño_poblacion,tasa_supervivencia, tasa_mutacion, generaciones)"
   ]
  },
  {
   "cell_type": "markdown",
   "metadata": {
    "id": "cbBrrwOSCvoE"
   },
   "source": [
    "## Algoritmo vs Fuerza Bruta\n",
    "La primera celda muestra el código para resolver nuestra problematica por fuerza bruta. Tarda 10 minutos en ejecutarse."
   ]
  },
  {
   "cell_type": "code",
   "execution_count": null,
   "metadata": {},
   "outputs": [
    {
     "name": "stdout",
     "output_type": "stream",
     "text": [
      "Mejor tiempo: 297.0\n",
      "Configuración óptima: [3, 4, 1, 0, 2, 6, 5, [2, 0, 1, 0, 1, 1, 2]]\n"
     ]
    }
   ],
   "source": [
    "from itertools import permutations, product\n",
    "\n",
    "# Datos\n",
    "piezas = [0, 1, 2, 3, 4, 5, 6]  # Índices de las piezas\n",
    "factores = [0, 1, 2, 3]         # Índices de los grupos\n",
    "\n",
    "# Todas las permutaciones de las piezas\n",
    "permutaciones_piezas = permutations(piezas)\n",
    "\n",
    "# Todas las combinaciones posibles de factores del grupo (uno por cada pieza)\n",
    "combinaciones_factores = list(product(factores, repeat=len(piezas)))\n",
    "\n",
    "# Variable para rastrear el mejor tiempo\n",
    "mejor_tiempo = float('inf')\n",
    "mejor_configuracion = None\n",
    "\n",
    "# Iterar sobre cada combinación de piezas y factores\n",
    "for permutacion in permutaciones_piezas:\n",
    "    for combinacion in combinaciones_factores:\n",
    "        # Crear un cromosoma simulado\n",
    "        cromosoma = list(permutacion) + [list(combinacion)]\n",
    "        individuo = Individuo(cromosoma)\n",
    "        individuo.set_aptitud()\n",
    "        # Calcular la aptitud\n",
    "        aptitud = individuo._aptitud  # Implementación basada en tu función set_aptitud\n",
    "        \n",
    "        # Verificar si es la mejor solución\n",
    "        if aptitud < mejor_tiempo:\n",
    "            mejor_tiempo = aptitud\n",
    "            mejor_configuracion = cromosoma\n",
    "\n",
    "# Resultado final\n",
    "print(f\"Mejor tiempo: {mejor_tiempo}\")\n",
    "print(f\"Configuración óptima: {mejor_configuracion}\")\n"
   ]
  },
  {
   "cell_type": "markdown",
   "metadata": {
    "id": "DH2a5NsUC1hp"
   },
   "source": [
    "Sin embargo, empleando el algoritmo creado tarda 2,... segundos de ejecución. Con la reproducción elitista llegamos a la mejor solución, por lo que para este caso nos favorece más y además, emplea menos tiempo que el generacional.\n",
    "Los valores obtenidos son verídicos. Quizás alguno se pierde por ejecutar las celdas accidentalmente.\n",
    "\n",
    "## TABLA COMPARATIVA\n",
    "\n",
    "| **Método**       | **Cromosoma** | **Aptitud** |**Tiempo de ejecución** |\n",
    "|-----------------|------------------------|------------|---|\n",
    "| Reproducción **Generacional**       | *[3, 4, 1, 0, 2, 6, 5, [3, 0, 3, 0, 1, 1, 2]]* | **299.5**| 3s |\n",
    "| Reproducción **Elistista**       | *[3, 4, 1, 0, 2, 6, 5, [2, 0, 1, 0, 1, 1, 2]]* | **297.0**| 0.2s |\n",
    "| **FUERZA BRUTA**       | *[3, 4, 1, 0, 2, 6, 5, [2, 0, 1, 0, 1, 1, 2]]* | **297.0**| 1ª vez :10 m 2ª: 4m 16s|\n",
    "\n"
   ]
  }
 ],
 "metadata": {
  "colab": {
   "collapsed_sections": [
    "0ZPsLKNCtkVC"
   ],
   "provenance": []
  },
  "kernelspec": {
   "display_name": "base",
   "language": "python",
   "name": "python3"
  },
  "language_info": {
   "codemirror_mode": {
    "name": "ipython",
    "version": 3
   },
   "file_extension": ".py",
   "mimetype": "text/x-python",
   "name": "python",
   "nbconvert_exporter": "python",
   "pygments_lexer": "ipython3",
   "version": "3.12.3"
  }
 },
 "nbformat": 4,
 "nbformat_minor": 4
}
